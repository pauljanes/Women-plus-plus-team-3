{
 "cells": [
  {
   "cell_type": "markdown",
   "id": "88b0f764-2ca1-4ba1-b6a3-acb19ff1d34a",
   "metadata": {},
   "source": [
    "# Hack'n'Lead 2023 Womenplusplus Challenge"
   ]
  },
  {
   "cell_type": "markdown",
   "id": "700cb3b0-4798-47e3-91ab-7fb6dab7269d",
   "metadata": {},
   "source": [
    "## Idea"
   ]
  },
  {
   "cell_type": "markdown",
   "id": "c3d58dc5-e1cd-486a-9957-5741709673de",
   "metadata": {},
   "source": [
    "The idea is to build engagement platform where participants, sponsors an partners can keep connected with non-profit organization, share they feedback and success stories or get a support in further development their career in tech or their tech businesses with new talents. Thanks to that they will as well contribute to assess the impact of initiatives run by non-profit organization. \n",
    "\n",
    "Note: For the purpose of the Hack'n'Lead  we narrowed the scope and focus only on event impact tracking based on Hack'n'Lead 2023.\n",
    "\n",
    "The crucial point of that concept is to gather information from involved parties to measure direct impact and as well to find in the future new funding opportunites. In our narrowed approach we will gather iformation  through survey send after the event to participants, partners and sponsors to collect satisfaction rate (certificate of participation on LinkedId as incentive). Moreover, we will follow up with participants after three months to keep them connected and gather information how their situation changed over the time (if they find a job, changed profession, build a broader networking or advanced their skills thanks to the event and support from non-profit organization). This will biuld stronger relationship and engagement. To attract participants to give a feedback after three month non-profit can offer support from rectrureirs to review CV or invite for other networking even of interesting conference."
   ]
  },
  {
   "cell_type": "markdown",
   "id": "735c4f04-2e9c-4788-b381-b5a98bd5f1fb",
   "metadata": {},
   "source": [
    "### DataBase"
   ]
  },
  {
   "cell_type": "markdown",
   "id": "bfdb055a-01ac-45bd-ae98-1362400e60e3",
   "metadata": {},
   "source": [
    "The cruccial component of the solution will be to have a DataBase to store information gathered from participants, sponsors and partners (in the future dB should be incorporated into engagement platform).\n",
    "Data from survey will be read via API, stored into DataFrame, transformed and saved in DataBase. Then, data from DataBase will be further transfored to calculate figures for impact report and connected with front end solution. For POC purpose I build a DataBase in SQLite3 which should be replaced by DataBase cloude solution and fill with test data. "
   ]
  },
  {
   "cell_type": "markdown",
   "id": "2c1defaf-4ae4-4f66-b80f-83d052a93bb2",
   "metadata": {},
   "source": [
    "#### Create DB"
   ]
  },
  {
   "cell_type": "code",
   "execution_count": 1,
   "id": "77202c7e-4b4f-4211-b7a2-99348168ae6f",
   "metadata": {},
   "outputs": [],
   "source": [
    "import pandas as pd\n",
    "import sqlite3"
   ]
  },
  {
   "cell_type": "code",
   "execution_count": 2,
   "id": "c6068c0c-ae5f-445d-a2fd-929882d2c802",
   "metadata": {},
   "outputs": [],
   "source": [
    "db_wpp = sqlite3.connect('db_wpp.db')\n",
    "cursor = db_wpp.cursor()"
   ]
  },
  {
   "cell_type": "code",
   "execution_count": 3,
   "id": "c24ff1ae-9f33-4497-bb6c-abba7a5b67be",
   "metadata": {},
   "outputs": [
    {
     "data": {
      "text/plain": [
       "<sqlite3.Cursor at 0x7fc7d7564500>"
      ]
     },
     "execution_count": 3,
     "metadata": {},
     "output_type": "execute_result"
    }
   ],
   "source": [
    "query_ct_wpp_events = '''\n",
    "CREATE TABLE wpp_EVENTS (\n",
    "EVENT_ID INT,\n",
    "EVENT_NAME TEXT,\n",
    "DATE TEXT,\n",
    "EVENT_DESC TEXT\n",
    ");\n",
    "'''\n",
    "cursor.execute(query_ct_wpp_events)"
   ]
  },
  {
   "cell_type": "code",
   "execution_count": 4,
   "id": "e77e4918-2108-468c-9442-deddbc0b3ed5",
   "metadata": {},
   "outputs": [
    {
     "data": {
      "text/plain": [
       "<sqlite3.Cursor at 0x7fc7d7564500>"
      ]
     },
     "execution_count": 4,
     "metadata": {},
     "output_type": "execute_result"
    }
   ],
   "source": [
    "query_ct_wpp_sponsors = '''\n",
    "CREATE TABLE wpp_SPONSORS (\n",
    "SPONSOR_ID INT,\n",
    "SPONSOR_NAME TEXT\n",
    ");\n",
    "'''\n",
    "cursor.execute(query_ct_wpp_sponsors)"
   ]
  },
  {
   "cell_type": "code",
   "execution_count": 5,
   "id": "27ece5b5-4d31-4ab2-85da-c7aa312bd1b0",
   "metadata": {},
   "outputs": [
    {
     "data": {
      "text/plain": [
       "<sqlite3.Cursor at 0x7fc7d7564500>"
      ]
     },
     "execution_count": 5,
     "metadata": {},
     "output_type": "execute_result"
    }
   ],
   "source": [
    "query_ct_wpp_events_sponsors = '''\n",
    "CREATE TABLE wpp_events_sponsors(\n",
    "EVENT_ID INT,\n",
    "SPONSOR_ID INT\n",
    ");\n",
    "'''\n",
    "cursor.execute(query_ct_wpp_events_sponsors)"
   ]
  },
  {
   "cell_type": "code",
   "execution_count": 6,
   "id": "6ae36fa3-99f6-41ef-bb76-516242124fe2",
   "metadata": {},
   "outputs": [
    {
     "data": {
      "text/plain": [
       "<sqlite3.Cursor at 0x7fc7d7564500>"
      ]
     },
     "execution_count": 6,
     "metadata": {},
     "output_type": "execute_result"
    }
   ],
   "source": [
    "query_ct_wpp_users = '''\n",
    "CREATE TABLE wpp_USERS (\n",
    "EVENT_ID INT,\n",
    "USER_NAME TEXT, \n",
    "USER_E_MAIL TEXT,\n",
    "USER_GENDER TEXT,\n",
    "USER_NATIONALITY TEXT\n",
    ");\n",
    "'''\n",
    "cursor.execute(query_ct_wpp_users)"
   ]
  },
  {
   "cell_type": "code",
   "execution_count": 7,
   "id": "69889214-7ea0-46f2-ae83-581aa1f4b855",
   "metadata": {},
   "outputs": [
    {
     "data": {
      "text/plain": [
       "<sqlite3.Cursor at 0x7fc7d7564500>"
      ]
     },
     "execution_count": 7,
     "metadata": {},
     "output_type": "execute_result"
    }
   ],
   "source": [
    "query_ct_wpp_survey_satisfaction = '''\n",
    "CREATE TABLE wpp_survey_satisfaction (\n",
    "EVENT_ID INT, \n",
    "USER_E_MAIL TEXT,\n",
    "USER_PROF_STATUS TEXT,\n",
    "USER_EVENT_EXPECT TEXT,\n",
    "USER_EVENT_EXPECT_OTHER_DESC TEXT,\n",
    "USER_SATISFACTION INT\n",
    ");\n",
    "'''\n",
    "cursor.execute(query_ct_wpp_survey_satisfaction)"
   ]
  },
  {
   "cell_type": "code",
   "execution_count": 8,
   "id": "796ba900-916d-4b69-aad9-289d161a0148",
   "metadata": {},
   "outputs": [
    {
     "data": {
      "text/plain": [
       "<sqlite3.Cursor at 0x7fc7d7564500>"
      ]
     },
     "execution_count": 8,
     "metadata": {},
     "output_type": "execute_result"
    }
   ],
   "source": [
    "query_ct_wpp_survey_impact = '''\n",
    "CREATE TABLE wpp_survey_impact (\n",
    "EVENT_ID INT, \n",
    "USER_E_MAIL TEXT,\n",
    "USER_PROF_STATUS TEXT,\n",
    "USER_EVENT_IMPACT TEXT, \n",
    "USER_EVENT_IMPACT_OTHER_DESC TEXT,\n",
    "USER_SATISFACTION INT\n",
    ");\n",
    "'''\n",
    "cursor.execute(query_ct_wpp_survey_impact)"
   ]
  },
  {
   "cell_type": "raw",
   "id": "974c4db2-5db6-4c81-9e00-6fe0c8f86368",
   "metadata": {},
   "source": [
    "query_ct_wpp_drop = '''\n",
    "DROP TABLE wpp_survey_impact;\n",
    "'''\n",
    "cursor.execute(query_ct_wpp_drop)"
   ]
  },
  {
   "cell_type": "markdown",
   "id": "5b6b932a-16c4-4182-8f26-3ab26892d75e",
   "metadata": {},
   "source": [
    "#### Insert into DB - test data"
   ]
  },
  {
   "cell_type": "markdown",
   "id": "f1f462f2-3f90-48db-b4b2-3049e1914bee",
   "metadata": {},
   "source": [
    "In target solution DB should be filled directly from survey through API or even directly connected to engagement platform. For POC I just fill tables in DB with test data. "
   ]
  },
  {
   "cell_type": "code",
   "execution_count": 9,
   "id": "eb4a6204-ae2b-4b23-a60a-b457e12e51f7",
   "metadata": {},
   "outputs": [
    {
     "name": "stdout",
     "output_type": "stream",
     "text": [
      "[('wpp_EVENTS',), ('wpp_SPONSORS',), ('wpp_events_sponsors',), ('wpp_USERS',), ('wpp_survey_satisfaction',), ('wpp_survey_impact',)]\n"
     ]
    }
   ],
   "source": [
    "# list of all created tabels\n",
    "cursor.execute(\"SELECT name FROM sqlite_master WHERE type='table';\")\n",
    "results = cursor.fetchall()\n",
    "print(results)"
   ]
  },
  {
   "cell_type": "code",
   "execution_count": 10,
   "id": "c46fc2e6-441e-48bd-8fc8-dd1e508298d6",
   "metadata": {},
   "outputs": [
    {
     "data": {
      "text/plain": [
       "<sqlite3.Cursor at 0x7fc7d7564500>"
      ]
     },
     "execution_count": 10,
     "metadata": {},
     "output_type": "execute_result"
    }
   ],
   "source": [
    "query_in_wpp_events = '''\n",
    "INSERT INTO wpp_EVENTS \n",
    "SELECT '1' AS EVENT_ID,\n",
    "       \"Hack'n'Lead 2023\" AS EVENT_NAME,\n",
    "       '11-12.11.2023' AS DATE,\n",
    "       'women-friendly hackathon' AS EVENT_DESC;\n",
    "'''\n",
    "cursor.execute(query_in_wpp_events)"
   ]
  },
  {
   "cell_type": "code",
   "execution_count": 11,
   "id": "4c740866-cd0c-40b7-a2c4-c3b971378d3b",
   "metadata": {},
   "outputs": [
    {
     "data": {
      "text/plain": [
       "<sqlite3.Cursor at 0x7fc7d7564500>"
      ]
     },
     "execution_count": 11,
     "metadata": {},
     "output_type": "execute_result"
    }
   ],
   "source": [
    "query_in_wpp_sponsors = '''\n",
    "INSERT INTO wpp_SPONSORS \n",
    "          SELECT '1' AS SPONSOR_ID,'Ginetta' AS PARTNER_NAME\n",
    "UNION ALL SELECT '2' AS SPONSOR_ID,'SDX' AS PARTNER_NAME;\n",
    "'''\n",
    "cursor.execute(query_in_wpp_sponsors)"
   ]
  },
  {
   "cell_type": "code",
   "execution_count": 12,
   "id": "03ed894d-92a6-4585-ad29-da9c2eed2698",
   "metadata": {},
   "outputs": [
    {
     "data": {
      "text/plain": [
       "<sqlite3.Cursor at 0x7fc7d7564500>"
      ]
     },
     "execution_count": 12,
     "metadata": {},
     "output_type": "execute_result"
    }
   ],
   "source": [
    "query_in_wpp_events_sponsors = '''\n",
    "INSERT INTO wpp_events_sponsors\n",
    "          SELECT '1' AS EVENT_ID,\n",
    "              '1' AS SPONSOR_ID\n",
    "UNION ALL SELECT '1' AS EVENT_ID,\n",
    "              '2' AS SPONSOR_ID\n",
    ";\n",
    "'''\n",
    "cursor.execute(query_in_wpp_events_sponsors)"
   ]
  },
  {
   "cell_type": "code",
   "execution_count": 13,
   "id": "c4cf027b-372b-4c21-9e5d-e2989dc2a64f",
   "metadata": {},
   "outputs": [
    {
     "data": {
      "text/plain": [
       "<sqlite3.Cursor at 0x7fc7d7564500>"
      ]
     },
     "execution_count": 13,
     "metadata": {},
     "output_type": "execute_result"
    }
   ],
   "source": [
    "query_in_wpp_users = '''\n",
    "INSERT INTO  wpp_USERS \n",
    "SELECT '1' AS EVENT_ID,\n",
    "       'Magdalena Czempas' AS USER_NAME, \n",
    "       'magdalena.czempas@gmail.com' AS USER_E_MAIL,\n",
    "       'female' AS USER_GENDER,\n",
    "       'Polish' as USER_NATIONALITY\n",
    "UNION ALL SELECT '1' AS EVENT_ID,\n",
    "       'Gabriel Brevi' AS USER_NAME, \n",
    "       'gabibrevi@gmail.com' AS USER_E_MAIL,\n",
    "       'male' AS USER_GENDER,\n",
    "       'Brazilian' as USER_NATIONALITY\n",
    "UNION ALL SELECT '1' AS EVENT_ID,\n",
    "       'Paul Janes' AS USER_NAME, \n",
    "       'paul_janes@hotmail.com' AS USER_E_MAIL,\n",
    "       'male' AS USER_GENDER,\n",
    "       'UK' as USER_NATIONALITY;\n",
    "'''\n",
    "cursor.execute(query_in_wpp_users)"
   ]
  },
  {
   "cell_type": "code",
   "execution_count": 14,
   "id": "e043b4a9-0bac-472c-a5f0-b14af023d554",
   "metadata": {},
   "outputs": [
    {
     "data": {
      "text/plain": [
       "<sqlite3.Cursor at 0x7fc7d7564500>"
      ]
     },
     "execution_count": 14,
     "metadata": {},
     "output_type": "execute_result"
    }
   ],
   "source": [
    "query_in_wpp_survey_satisfaction = '''\n",
    "INSERT INTO wpp_survey_satisfaction \n",
    "SELECT '1' AS EVENT_ID, \n",
    "       'magdalena.czempas@gmail.com' AS USER_E_MAIL,\n",
    "       'Employed' AS USER_PROF_STATUS,\n",
    "        'Networking, Job Search' AS USER_EVENT_EXPECT,\n",
    "        '' AS USER_EVENT_EXPECT_OTHER_DESC,\n",
    "        '4' AS USER_SATISFACTION \n",
    "UNION ALL SELECT '1' AS EVENT_ID, \n",
    "       'gabibrevi@gmail.com' AS USER_E_MAIL,\n",
    "       'Looking for a job' AS USER_PROF_STATUS,\n",
    "       'Networking, Job Search' AS USER_EVENT_EXPECT,\n",
    "       'have a fun' AS USER_EVENT_EXPECT_OTHER_DESC,\n",
    "       '5' AS USER_SATISFACTION \n",
    "UNION ALL SELECT '1' AS EVENT_ID, \n",
    "       'paul_janes@hotmail.com' AS USER_E_MAIL,\n",
    "       'Looking for a job' AS USER_PROF_STATUS,\n",
    "       'Networking, Job Search' AS USER_EVENT_EXPECT,\n",
    "       '' AS USER_EVENT_EXPECT_OTHER_DESC,\n",
    "       '3' AS USER_SATISFACTION \n",
    ";\n",
    "'''\n",
    "cursor.execute(query_in_wpp_survey_satisfaction)"
   ]
  },
  {
   "cell_type": "code",
   "execution_count": 15,
   "id": "fe43fdb0-e3f0-4ab4-a1fa-4e03c212445b",
   "metadata": {},
   "outputs": [
    {
     "data": {
      "text/plain": [
       "<sqlite3.Cursor at 0x7fc7d7564500>"
      ]
     },
     "execution_count": 15,
     "metadata": {},
     "output_type": "execute_result"
    }
   ],
   "source": [
    "query_in_wpp_survey_impact = '''\n",
    "INSERT INTO wpp_survey_impact\n",
    "            SELECT '1' AS EVENT_ID, \n",
    "                   'magdalena.czempas@gmail.com' AS USER_E_MAIL,\n",
    "                   'Employed' AS USER_PROF_STATUS,\n",
    "                   'I grew my network' AS USER_EVENT_IMPACT,\n",
    "                   '' AS USER_EVENT_IMPACT_OTHER_DESC,\n",
    "                   '4' AS USER_SATISFACTION\n",
    "UNION ALL  SELECT '1' AS EVENT_ID, \n",
    "                  'gabibrevi@gmail.com' AS USER_E_MAIL,\n",
    "                  'Employed' AS USER_PROF_STATUS,\n",
    "                  'I found a job' AS USER_EVENT_IMPACT,\n",
    "                  '' AS USER_EVENT_IMPACT_OTHER_DESC,\n",
    "                  '5' AS USER_SATISFACTION\n",
    "UNION ALL  SELECT '1' AS EVENT_ID, \n",
    "                  'paul_janes@hotmail.com' AS USER_E_MAIL,\n",
    "                  'Looking for a job' AS USER_PROF_STATUS,\n",
    "                  'I grew my network' AS USER_EVENT_IMPACT,\n",
    "                  '' AS USER_EVENT_IMPACT_OTHER_DESC,\n",
    "                  '3' AS USER_SATISFACTION\n",
    ";\n",
    "'''\n",
    "cursor.execute(query_in_wpp_survey_impact)"
   ]
  },
  {
   "cell_type": "markdown",
   "id": "5dfc1a50-bd02-4492-bc12-88ef43f7a2ea",
   "metadata": {},
   "source": [
    "#### Convert tables into DataFrames"
   ]
  },
  {
   "cell_type": "code",
   "execution_count": 16,
   "id": "a6fe22db-3f38-463a-968c-7cfa533f6eab",
   "metadata": {},
   "outputs": [],
   "source": [
    "df_wpp_USERS = pd.read_sql_query(\"SELECT * FROM wpp_USERS;\", db_wpp)\n",
    "df_wpp_EVENTS = pd.read_sql_query(\"SELECT * FROM wpp_EVENTS;\", db_wpp)\n",
    "df_wpp_survey_satisfaction = pd.read_sql_query(\"SELECT * FROM wpp_survey_satisfaction;\", db_wpp)\n",
    "df_wpp_survey_impact = pd.read_sql_query(\"SELECT * FROM wpp_survey_impact;\", db_wpp)\n",
    "df_wpp_events_sponsors = pd.read_sql_query(\"SELECT * FROM wpp_events_sponsors;\", db_wpp)"
   ]
  },
  {
   "cell_type": "code",
   "execution_count": 17,
   "id": "42bb96be-529f-4c5c-ae72-069a2802dc7d",
   "metadata": {},
   "outputs": [],
   "source": [
    "df_wpp_sponsors = pd.read_sql_query(\"SELECT * FROM wpp_sponsors;\", db_wpp)"
   ]
  },
  {
   "cell_type": "markdown",
   "id": "2059f3a3-baa8-4a3c-86b1-951c73fa9fdf",
   "metadata": {},
   "source": [
    "#### Join tabels"
   ]
  },
  {
   "cell_type": "code",
   "execution_count": 18,
   "id": "c4780168-21da-4499-b1eb-cc00082faa70",
   "metadata": {},
   "outputs": [],
   "source": [
    "df_wpp_FINAL = pd.merge(df_wpp_USERS, df_wpp_EVENTS, \n",
    "                        on='EVENT_ID', \n",
    "                        how='left')"
   ]
  },
  {
   "cell_type": "code",
   "execution_count": 19,
   "id": "fe54a5d1-6a43-435b-9370-b304c0e8e9d6",
   "metadata": {},
   "outputs": [],
   "source": [
    "df_wpp_FINAL = pd.merge(df_wpp_FINAL, df_wpp_survey_satisfaction, \n",
    "                        on=['USER_E_MAIL','EVENT_ID'],\n",
    "                        how='left')"
   ]
  },
  {
   "cell_type": "code",
   "execution_count": 20,
   "id": "43147791-bb19-4c7a-ac16-fa4f59e00c92",
   "metadata": {},
   "outputs": [],
   "source": [
    "df_wpp_FINAL = pd.merge(df_wpp_FINAL, df_wpp_survey_impact, \n",
    "                        on=['USER_E_MAIL','EVENT_ID'],\n",
    "                        how='left',\n",
    "                        suffixes = ('_SAT', '_IMPACT'))"
   ]
  },
  {
   "cell_type": "code",
   "execution_count": 21,
   "id": "2d62ddef-97ce-4a8c-93ac-fd05ebc08dda",
   "metadata": {},
   "outputs": [
    {
     "data": {
      "text/html": [
       "<div>\n",
       "<style scoped>\n",
       "    .dataframe tbody tr th:only-of-type {\n",
       "        vertical-align: middle;\n",
       "    }\n",
       "\n",
       "    .dataframe tbody tr th {\n",
       "        vertical-align: top;\n",
       "    }\n",
       "\n",
       "    .dataframe thead th {\n",
       "        text-align: right;\n",
       "    }\n",
       "</style>\n",
       "<table border=\"1\" class=\"dataframe\">\n",
       "  <thead>\n",
       "    <tr style=\"text-align: right;\">\n",
       "      <th></th>\n",
       "      <th>EVENT_ID</th>\n",
       "      <th>USER_NAME</th>\n",
       "      <th>USER_E_MAIL</th>\n",
       "      <th>USER_GENDER</th>\n",
       "      <th>USER_NATIONALITY</th>\n",
       "      <th>EVENT_NAME</th>\n",
       "      <th>DATE</th>\n",
       "      <th>EVENT_DESC</th>\n",
       "      <th>USER_PROF_STATUS_SAT</th>\n",
       "      <th>USER_EVENT_EXPECT</th>\n",
       "      <th>USER_EVENT_EXPECT_OTHER_DESC</th>\n",
       "      <th>USER_SATISFACTION_SAT</th>\n",
       "      <th>USER_PROF_STATUS_IMPACT</th>\n",
       "      <th>USER_EVENT_IMPACT</th>\n",
       "      <th>USER_EVENT_IMPACT_OTHER_DESC</th>\n",
       "      <th>USER_SATISFACTION_IMPACT</th>\n",
       "    </tr>\n",
       "  </thead>\n",
       "  <tbody>\n",
       "    <tr>\n",
       "      <th>0</th>\n",
       "      <td>1</td>\n",
       "      <td>Magdalena Czempas</td>\n",
       "      <td>magdalena.czempas@gmail.com</td>\n",
       "      <td>female</td>\n",
       "      <td>Polish</td>\n",
       "      <td>Hack'n'Lead 2023</td>\n",
       "      <td>11-12.11.2023</td>\n",
       "      <td>women-friendly hackathon</td>\n",
       "      <td>Employed</td>\n",
       "      <td>Networking, Job Search</td>\n",
       "      <td></td>\n",
       "      <td>4</td>\n",
       "      <td>Employed</td>\n",
       "      <td>I grew my network</td>\n",
       "      <td></td>\n",
       "      <td>4</td>\n",
       "    </tr>\n",
       "    <tr>\n",
       "      <th>1</th>\n",
       "      <td>1</td>\n",
       "      <td>Gabriel Brevi</td>\n",
       "      <td>gabibrevi@gmail.com</td>\n",
       "      <td>male</td>\n",
       "      <td>Brazilian</td>\n",
       "      <td>Hack'n'Lead 2023</td>\n",
       "      <td>11-12.11.2023</td>\n",
       "      <td>women-friendly hackathon</td>\n",
       "      <td>Looking for a job</td>\n",
       "      <td>Networking, Job Search</td>\n",
       "      <td>have a fun</td>\n",
       "      <td>5</td>\n",
       "      <td>Employed</td>\n",
       "      <td>I found a job</td>\n",
       "      <td></td>\n",
       "      <td>5</td>\n",
       "    </tr>\n",
       "    <tr>\n",
       "      <th>2</th>\n",
       "      <td>1</td>\n",
       "      <td>Paul Janes</td>\n",
       "      <td>paul_janes@hotmail.com</td>\n",
       "      <td>male</td>\n",
       "      <td>UK</td>\n",
       "      <td>Hack'n'Lead 2023</td>\n",
       "      <td>11-12.11.2023</td>\n",
       "      <td>women-friendly hackathon</td>\n",
       "      <td>Looking for a job</td>\n",
       "      <td>Networking, Job Search</td>\n",
       "      <td></td>\n",
       "      <td>3</td>\n",
       "      <td>Looking for a job</td>\n",
       "      <td>I grew my network</td>\n",
       "      <td></td>\n",
       "      <td>3</td>\n",
       "    </tr>\n",
       "  </tbody>\n",
       "</table>\n",
       "</div>"
      ],
      "text/plain": [
       "   EVENT_ID          USER_NAME                  USER_E_MAIL USER_GENDER  \\\n",
       "0         1  Magdalena Czempas  magdalena.czempas@gmail.com      female   \n",
       "1         1      Gabriel Brevi          gabibrevi@gmail.com        male   \n",
       "2         1         Paul Janes       paul_janes@hotmail.com        male   \n",
       "\n",
       "  USER_NATIONALITY        EVENT_NAME           DATE                EVENT_DESC  \\\n",
       "0           Polish  Hack'n'Lead 2023  11-12.11.2023  women-friendly hackathon   \n",
       "1        Brazilian  Hack'n'Lead 2023  11-12.11.2023  women-friendly hackathon   \n",
       "2               UK  Hack'n'Lead 2023  11-12.11.2023  women-friendly hackathon   \n",
       "\n",
       "  USER_PROF_STATUS_SAT       USER_EVENT_EXPECT USER_EVENT_EXPECT_OTHER_DESC  \\\n",
       "0             Employed  Networking, Job Search                                \n",
       "1    Looking for a job  Networking, Job Search                   have a fun   \n",
       "2    Looking for a job  Networking, Job Search                                \n",
       "\n",
       "   USER_SATISFACTION_SAT USER_PROF_STATUS_IMPACT  USER_EVENT_IMPACT  \\\n",
       "0                      4                Employed  I grew my network   \n",
       "1                      5                Employed      I found a job   \n",
       "2                      3       Looking for a job  I grew my network   \n",
       "\n",
       "  USER_EVENT_IMPACT_OTHER_DESC  USER_SATISFACTION_IMPACT  \n",
       "0                                                      4  \n",
       "1                                                      5  \n",
       "2                                                      3  "
      ]
     },
     "execution_count": 21,
     "metadata": {},
     "output_type": "execute_result"
    }
   ],
   "source": [
    "df_wpp_FINAL.head()"
   ]
  },
  {
   "cell_type": "code",
   "execution_count": 22,
   "id": "a1a6c9e0-6e6c-4260-9ce8-21251f8f154a",
   "metadata": {},
   "outputs": [],
   "source": [
    "df_wpp_EVENTS_FINAL = pd.merge(df_wpp_EVENTS, df_wpp_events_sponsors, \n",
    "                        on='EVENT_ID', \n",
    "                        how='left')"
   ]
  },
  {
   "cell_type": "code",
   "execution_count": 23,
   "id": "464ad3db-3825-4f73-b2f2-9d3217fea831",
   "metadata": {},
   "outputs": [],
   "source": [
    "df_wpp_EVENTS_FINAL = pd.merge(df_wpp_EVENTS_FINAL, df_wpp_sponsors, \n",
    "                        on='SPONSOR_ID', \n",
    "                        how='left')"
   ]
  },
  {
   "cell_type": "code",
   "execution_count": 24,
   "id": "c41fc3ba-9496-46e6-8a04-b609b87823bc",
   "metadata": {},
   "outputs": [
    {
     "data": {
      "text/html": [
       "<div>\n",
       "<style scoped>\n",
       "    .dataframe tbody tr th:only-of-type {\n",
       "        vertical-align: middle;\n",
       "    }\n",
       "\n",
       "    .dataframe tbody tr th {\n",
       "        vertical-align: top;\n",
       "    }\n",
       "\n",
       "    .dataframe thead th {\n",
       "        text-align: right;\n",
       "    }\n",
       "</style>\n",
       "<table border=\"1\" class=\"dataframe\">\n",
       "  <thead>\n",
       "    <tr style=\"text-align: right;\">\n",
       "      <th></th>\n",
       "      <th>EVENT_ID</th>\n",
       "      <th>EVENT_NAME</th>\n",
       "      <th>DATE</th>\n",
       "      <th>EVENT_DESC</th>\n",
       "      <th>SPONSOR_ID</th>\n",
       "      <th>SPONSOR_NAME</th>\n",
       "    </tr>\n",
       "  </thead>\n",
       "  <tbody>\n",
       "    <tr>\n",
       "      <th>0</th>\n",
       "      <td>1</td>\n",
       "      <td>Hack'n'Lead 2023</td>\n",
       "      <td>11-12.11.2023</td>\n",
       "      <td>women-friendly hackathon</td>\n",
       "      <td>1</td>\n",
       "      <td>Ginetta</td>\n",
       "    </tr>\n",
       "    <tr>\n",
       "      <th>1</th>\n",
       "      <td>1</td>\n",
       "      <td>Hack'n'Lead 2023</td>\n",
       "      <td>11-12.11.2023</td>\n",
       "      <td>women-friendly hackathon</td>\n",
       "      <td>2</td>\n",
       "      <td>SDX</td>\n",
       "    </tr>\n",
       "  </tbody>\n",
       "</table>\n",
       "</div>"
      ],
      "text/plain": [
       "   EVENT_ID        EVENT_NAME           DATE                EVENT_DESC  \\\n",
       "0         1  Hack'n'Lead 2023  11-12.11.2023  women-friendly hackathon   \n",
       "1         1  Hack'n'Lead 2023  11-12.11.2023  women-friendly hackathon   \n",
       "\n",
       "   SPONSOR_ID SPONSOR_NAME  \n",
       "0           1      Ginetta  \n",
       "1           2          SDX  "
      ]
     },
     "execution_count": 24,
     "metadata": {},
     "output_type": "execute_result"
    }
   ],
   "source": [
    "df_wpp_EVENTS_FINAL.head()"
   ]
  },
  {
   "cell_type": "markdown",
   "id": "c1523710-4ea6-4ab6-8caa-652a44ee1a54",
   "metadata": {},
   "source": [
    "#### Impact Measures Examples"
   ]
  },
  {
   "cell_type": "code",
   "execution_count": 32,
   "id": "0956293f-7bdb-43dc-a7ab-ce12e87e6627",
   "metadata": {},
   "outputs": [
    {
     "data": {
      "text/html": [
       "<div>\n",
       "<style scoped>\n",
       "    .dataframe tbody tr th:only-of-type {\n",
       "        vertical-align: middle;\n",
       "    }\n",
       "\n",
       "    .dataframe tbody tr th {\n",
       "        vertical-align: top;\n",
       "    }\n",
       "\n",
       "    .dataframe thead th {\n",
       "        text-align: right;\n",
       "    }\n",
       "</style>\n",
       "<table border=\"1\" class=\"dataframe\">\n",
       "  <thead>\n",
       "    <tr style=\"text-align: right;\">\n",
       "      <th></th>\n",
       "      <th>USER_SATISFACTION_IMPACT</th>\n",
       "    </tr>\n",
       "    <tr>\n",
       "      <th>EVENT_NAME</th>\n",
       "      <th></th>\n",
       "    </tr>\n",
       "  </thead>\n",
       "  <tbody>\n",
       "    <tr>\n",
       "      <th>Hack'n'Lead 2023</th>\n",
       "      <td>4</td>\n",
       "    </tr>\n",
       "  </tbody>\n",
       "</table>\n",
       "</div>"
      ],
      "text/plain": [
       "                  USER_SATISFACTION_IMPACT\n",
       "EVENT_NAME                                \n",
       "Hack'n'Lead 2023                         4"
      ]
     },
     "execution_count": 32,
     "metadata": {},
     "output_type": "execute_result"
    }
   ],
   "source": [
    "df_wpp_FINAL[['EVENT_NAME','USER_SATISFACTION_IMPACT']].groupby('EVENT_NAME').mean()"
   ]
  },
  {
   "cell_type": "code",
   "execution_count": 44,
   "id": "38cb8e44-dd8f-48f6-a3da-0a65a8102d55",
   "metadata": {},
   "outputs": [
    {
     "data": {
      "text/html": [
       "<div>\n",
       "<style scoped>\n",
       "    .dataframe tbody tr th:only-of-type {\n",
       "        vertical-align: middle;\n",
       "    }\n",
       "\n",
       "    .dataframe tbody tr th {\n",
       "        vertical-align: top;\n",
       "    }\n",
       "\n",
       "    .dataframe thead th {\n",
       "        text-align: right;\n",
       "    }\n",
       "</style>\n",
       "<table border=\"1\" class=\"dataframe\">\n",
       "  <thead>\n",
       "    <tr style=\"text-align: right;\">\n",
       "      <th></th>\n",
       "      <th></th>\n",
       "      <th>USER_NAME</th>\n",
       "    </tr>\n",
       "    <tr>\n",
       "      <th>EVENT_NAME</th>\n",
       "      <th>USER_EVENT_IMPACT</th>\n",
       "      <th></th>\n",
       "    </tr>\n",
       "  </thead>\n",
       "  <tbody>\n",
       "    <tr>\n",
       "      <th rowspan=\"2\" valign=\"top\">Hack'n'Lead 2023</th>\n",
       "      <th>I found a job</th>\n",
       "      <td>1</td>\n",
       "    </tr>\n",
       "    <tr>\n",
       "      <th>I grew my network</th>\n",
       "      <td>2</td>\n",
       "    </tr>\n",
       "  </tbody>\n",
       "</table>\n",
       "</div>"
      ],
      "text/plain": [
       "                                    USER_NAME\n",
       "EVENT_NAME       USER_EVENT_IMPACT           \n",
       "Hack'n'Lead 2023 I found a job              1\n",
       "                 I grew my network          2"
      ]
     },
     "execution_count": 44,
     "metadata": {},
     "output_type": "execute_result"
    }
   ],
   "source": [
    "df_wpp_FINAL[['EVENT_NAME','USER_EVENT_IMPACT','USER_NAME']].groupby(['EVENT_NAME','USER_EVENT_IMPACT']).count()"
   ]
  }
 ],
 "metadata": {
  "kernelspec": {
   "display_name": "exts-ml",
   "language": "python",
   "name": "exts-ml"
  },
  "language_info": {
   "codemirror_mode": {
    "name": "ipython",
    "version": 3
   },
   "file_extension": ".py",
   "mimetype": "text/x-python",
   "name": "python",
   "nbconvert_exporter": "python",
   "pygments_lexer": "ipython3",
   "version": "3.6.15"
  }
 },
 "nbformat": 4,
 "nbformat_minor": 5
}
